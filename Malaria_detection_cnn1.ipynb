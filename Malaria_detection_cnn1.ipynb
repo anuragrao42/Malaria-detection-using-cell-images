{
  "nbformat": 4,
  "nbformat_minor": 0,
  "metadata": {
    "colab": {
      "name": "Malaria detection cnn1.ipynb",
      "provenance": [],
      "collapsed_sections": []
    },
    "kernelspec": {
      "name": "python3",
      "display_name": "Python 3"
    },
    "accelerator": "GPU"
  },
  "cells": [
    {
      "cell_type": "code",
      "metadata": {
        "id": "-LzoGL85tpga",
        "colab_type": "code",
        "colab": {}
      },
      "source": [
        "# !mkdir -p ~/.kaggle"
      ],
      "execution_count": null,
      "outputs": []
    },
    {
      "cell_type": "code",
      "metadata": {
        "id": "5IZoZVRCIk4t",
        "colab_type": "code",
        "colab": {}
      },
      "source": [
        "# !cp kaggle.json ~/.kaggle/"
      ],
      "execution_count": null,
      "outputs": []
    },
    {
      "cell_type": "code",
      "metadata": {
        "id": "b7S_EMehIk2E",
        "colab_type": "code",
        "colab": {}
      },
      "source": [
        "# !chmod 600 ~/.kaggle/kaggle.json"
      ],
      "execution_count": null,
      "outputs": []
    },
    {
      "cell_type": "code",
      "metadata": {
        "id": "tTiSocgYqw_G",
        "colab_type": "code",
        "colab": {}
      },
      "source": [
        "# !kaggle datasets download -d iarunava/cell-images-for-detecting-malaria"
      ],
      "execution_count": null,
      "outputs": []
    },
    {
      "cell_type": "code",
      "metadata": {
        "id": "j4hnbFIq8M0S",
        "colab_type": "code",
        "colab": {}
      },
      "source": [
        "# !unzip  cell-images-for-detecting-malaria.zip"
      ],
      "execution_count": null,
      "outputs": []
    },
    {
      "cell_type": "code",
      "metadata": {
        "id": "GQng_Yj38t42",
        "colab_type": "code",
        "colab": {
          "base_uri": "https://localhost:8080/",
          "height": 33
        },
        "outputId": "ce359fec-871b-49a0-b3c4-188367da65d9"
      },
      "source": [
        "import tensorflow as tf\n",
        "# import keras"
      ],
      "execution_count": null,
      "outputs": [
        {
          "output_type": "stream",
          "text": [
            "Using TensorFlow backend.\n"
          ],
          "name": "stderr"
        }
      ]
    },
    {
      "cell_type": "code",
      "metadata": {
        "id": "bUbfDVcPIXnG",
        "colab_type": "code",
        "colab": {}
      },
      "source": [
        "from tensorflow.keras import  Sequential\n",
        "from tensorflow.keras.layers import Flatten, Dense, Conv2D, MaxPool2D, Dropout\n",
        "from tensorflow.keras.preprocessing.image import ImageDataGenerator"
      ],
      "execution_count": null,
      "outputs": []
    },
    {
      "cell_type": "code",
      "metadata": {
        "id": "t2Bl43VpIuXj",
        "colab_type": "code",
        "colab": {}
      },
      "source": [
        "import numpy as np\n",
        "import matplotlib.pyplot as plt\n"
      ],
      "execution_count": null,
      "outputs": []
    },
    {
      "cell_type": "code",
      "metadata": {
        "id": "G_bpPqBTOM_3",
        "colab_type": "code",
        "colab": {}
      },
      "source": [
        "import os \n",
        "import glob"
      ],
      "execution_count": null,
      "outputs": []
    },
    {
      "cell_type": "code",
      "metadata": {
        "id": "bGEaZ1GbXzcT",
        "colab_type": "code",
        "colab": {}
      },
      "source": [
        "base_dir = os.path.join('/content/cell_images/cell_images')\n",
        "infected_dir = os.path.join(base_dir, 'Parasitized')\n",
        "uninfected_dir  = os.path.join(base_dir, 'Uninfected')\n"
      ],
      "execution_count": null,
      "outputs": []
    },
    {
      "cell_type": "code",
      "metadata": {
        "id": "4BqgllBv2TCD",
        "colab_type": "code",
        "colab": {}
      },
      "source": [
        "infected_files = glob.glob(infected_dir+'/*.png')\n",
        "healthy_files = glob.glob(uninfected_dir+'/*.png')"
      ],
      "execution_count": null,
      "outputs": []
    },
    {
      "cell_type": "code",
      "metadata": {
        "id": "TQP5nJL64rZJ",
        "colab_type": "code",
        "colab": {
          "base_uri": "https://localhost:8080/",
          "height": 33
        },
        "outputId": "520fa62f-0467-4fb0-91ab-550feb016007"
      },
      "source": [
        "len(healthy_files), len(infected_files)"
      ],
      "execution_count": null,
      "outputs": [
        {
          "output_type": "execute_result",
          "data": {
            "text/plain": [
              "(13779, 13779)"
            ]
          },
          "metadata": {
            "tags": []
          },
          "execution_count": 6
        }
      ]
    },
    {
      "cell_type": "code",
      "metadata": {
        "id": "aEIPe0uf4wdN",
        "colab_type": "code",
        "colab": {}
      },
      "source": [
        "import pandas as pd"
      ],
      "execution_count": null,
      "outputs": []
    },
    {
      "cell_type": "code",
      "metadata": {
        "id": "G8JGEYjC428c",
        "colab_type": "code",
        "colab": {}
      },
      "source": [
        "np.random.seed(42)"
      ],
      "execution_count": null,
      "outputs": []
    },
    {
      "cell_type": "code",
      "metadata": {
        "id": "yb3VbVj747Et",
        "colab_type": "code",
        "colab": {}
      },
      "source": [
        "dataframe = pd.DataFrame({\n",
        "                          'file_name': infected_files+healthy_files,\n",
        "                          'label': ['malaria']*len(infected_files) + ['healthy']*len(healthy_files)\n",
        "\n",
        "}).sample(frac=1, random_state = 42).reset_index(drop=True)"
      ],
      "execution_count": null,
      "outputs": []
    },
    {
      "cell_type": "code",
      "metadata": {
        "id": "SZtyMUdz6K2M",
        "colab_type": "code",
        "colab": {
          "base_uri": "https://localhost:8080/",
          "height": 196
        },
        "outputId": "eab3c8b5-e25c-42ac-efd9-20cc54a49a43"
      },
      "source": [
        "dataframe.head()"
      ],
      "execution_count": null,
      "outputs": [
        {
          "output_type": "execute_result",
          "data": {
            "text/html": [
              "<div>\n",
              "<style scoped>\n",
              "    .dataframe tbody tr th:only-of-type {\n",
              "        vertical-align: middle;\n",
              "    }\n",
              "\n",
              "    .dataframe tbody tr th {\n",
              "        vertical-align: top;\n",
              "    }\n",
              "\n",
              "    .dataframe thead th {\n",
              "        text-align: right;\n",
              "    }\n",
              "</style>\n",
              "<table border=\"1\" class=\"dataframe\">\n",
              "  <thead>\n",
              "    <tr style=\"text-align: right;\">\n",
              "      <th></th>\n",
              "      <th>file_name</th>\n",
              "      <th>label</th>\n",
              "    </tr>\n",
              "  </thead>\n",
              "  <tbody>\n",
              "    <tr>\n",
              "      <th>0</th>\n",
              "      <td>/content/cell_images/cell_images/Parasitized/C...</td>\n",
              "      <td>malaria</td>\n",
              "    </tr>\n",
              "    <tr>\n",
              "      <th>1</th>\n",
              "      <td>/content/cell_images/cell_images/Parasitized/C...</td>\n",
              "      <td>malaria</td>\n",
              "    </tr>\n",
              "    <tr>\n",
              "      <th>2</th>\n",
              "      <td>/content/cell_images/cell_images/Uninfected/C8...</td>\n",
              "      <td>healthy</td>\n",
              "    </tr>\n",
              "    <tr>\n",
              "      <th>3</th>\n",
              "      <td>/content/cell_images/cell_images/Uninfected/C1...</td>\n",
              "      <td>healthy</td>\n",
              "    </tr>\n",
              "    <tr>\n",
              "      <th>4</th>\n",
              "      <td>/content/cell_images/cell_images/Uninfected/C1...</td>\n",
              "      <td>healthy</td>\n",
              "    </tr>\n",
              "  </tbody>\n",
              "</table>\n",
              "</div>"
            ],
            "text/plain": [
              "                                           file_name    label\n",
              "0  /content/cell_images/cell_images/Parasitized/C...  malaria\n",
              "1  /content/cell_images/cell_images/Parasitized/C...  malaria\n",
              "2  /content/cell_images/cell_images/Uninfected/C8...  healthy\n",
              "3  /content/cell_images/cell_images/Uninfected/C1...  healthy\n",
              "4  /content/cell_images/cell_images/Uninfected/C1...  healthy"
            ]
          },
          "metadata": {
            "tags": []
          },
          "execution_count": 13
        }
      ]
    },
    {
      "cell_type": "code",
      "metadata": {
        "id": "oB3upjtt6MRk",
        "colab_type": "code",
        "colab": {}
      },
      "source": [
        "from sklearn.model_selection import train_test_split\n",
        "from collections import Counter"
      ],
      "execution_count": null,
      "outputs": []
    },
    {
      "cell_type": "code",
      "metadata": {
        "id": "u-YD9O2Y61yW",
        "colab_type": "code",
        "colab": {}
      },
      "source": [
        "train_files, test_files, train_labels , test_labels = train_test_split(dataframe['file_name'].values,\n",
        "                                                                     dataframe['label'].values,\n",
        "                                                                     test_size = 0.3,random_state =42)"
      ],
      "execution_count": null,
      "outputs": []
    },
    {
      "cell_type": "code",
      "metadata": {
        "id": "-JoHSi3q9Sbl",
        "colab_type": "code",
        "colab": {}
      },
      "source": [
        "train_files, val_files, train_labels , val_labels = train_test_split(train_files,\n",
        "                                                                     train_labels,\n",
        "                                                                     test_size = 0.1,random_state =42)"
      ],
      "execution_count": null,
      "outputs": []
    },
    {
      "cell_type": "code",
      "metadata": {
        "id": "VA0rz3EG9fGs",
        "colab_type": "code",
        "colab": {
          "base_uri": "https://localhost:8080/",
          "height": 33
        },
        "outputId": "d21ec13e-6912-490a-fea2-de9438083f5c"
      },
      "source": [
        "print(train_files.shape, val_files.shape, test_files.shape)"
      ],
      "execution_count": null,
      "outputs": [
        {
          "output_type": "stream",
          "text": [
            "(17361,) (1929,) (8268,)\n"
          ],
          "name": "stdout"
        }
      ]
    },
    {
      "cell_type": "code",
      "metadata": {
        "id": "MfdpKmtM9oqc",
        "colab_type": "code",
        "colab": {
          "base_uri": "https://localhost:8080/",
          "height": 67
        },
        "outputId": "f94352c5-b7c7-4902-a1c7-0ebb8de7c658"
      },
      "source": [
        "print('Train:', Counter(train_labels), '\\nVal:', Counter(val_labels), '\\nTest:', Counter(test_labels))\n"
      ],
      "execution_count": null,
      "outputs": [
        {
          "output_type": "stream",
          "text": [
            "Train: Counter({'healthy': 8734, 'malaria': 8627}) \n",
            "Val: Counter({'healthy': 970, 'malaria': 959}) \n",
            "Test: Counter({'malaria': 4193, 'healthy': 4075})\n"
          ],
          "name": "stdout"
        }
      ]
    },
    {
      "cell_type": "code",
      "metadata": {
        "id": "bRLtUOL--Enk",
        "colab_type": "code",
        "colab": {}
      },
      "source": [
        "import cv2\n",
        "from concurrent import futures\n",
        "import threading"
      ],
      "execution_count": null,
      "outputs": []
    },
    {
      "cell_type": "code",
      "metadata": {
        "id": "L93UrXDQ-fdI",
        "colab_type": "code",
        "colab": {
          "base_uri": "https://localhost:8080/",
          "height": 184
        },
        "outputId": "57646e76-2c86-4ce4-f0be-77b47fe301a2"
      },
      "source": [
        "def get_img_shape(idx, img, total_imgs):\n",
        "    if idx % 5000 == 0 or idx == (total_imgs - 1):\n",
        "        print('{}: working on img num: {}'.format(threading.current_thread().name,\n",
        "                                                  idx))\n",
        "    return cv2.imread(img).shape\n",
        "  \n",
        "ex = futures.ThreadPoolExecutor(max_workers=None)\n",
        "data_inp = [(idx, img, len(train_files)) for idx, img in enumerate(train_files)]\n",
        "print('Starting Img shape computation:')\n",
        "train_img_dims_map = ex.map(get_img_shape, \n",
        "                            [record[0] for record in data_inp],\n",
        "                            [record[1] for record in data_inp],\n",
        "                            [record[2] for record in data_inp])\n",
        "train_img_dims = list(train_img_dims_map)\n",
        "print('Min Dimensions:', np.min(train_img_dims, axis=0)) \n",
        "print('Avg Dimensions:', np.mean(train_img_dims, axis=0))\n",
        "print('Median Dimensions:', np.median(train_img_dims, axis=0))\n",
        "print('Max Dimensions:', np.max(train_img_dims, axis=0))"
      ],
      "execution_count": null,
      "outputs": [
        {
          "output_type": "stream",
          "text": [
            "Starting Img shape computation:\n",
            "ThreadPoolExecutor-0_0: working on img num: 0\n",
            "ThreadPoolExecutor-0_5: working on img num: 5000\n",
            "ThreadPoolExecutor-0_1: working on img num: 10000\n",
            "ThreadPoolExecutor-0_0: working on img num: 15000\n",
            "ThreadPoolExecutor-0_3: working on img num: 17360\n",
            "Min Dimensions: [40 46  3]\n",
            "Avg Dimensions: [133.         132.51909452   3.        ]\n",
            "Median Dimensions: [130. 130.   3.]\n",
            "Max Dimensions: [385 394   3]\n"
          ],
          "name": "stdout"
        }
      ]
    },
    {
      "cell_type": "code",
      "metadata": {
        "id": "mvUxPDHDBXvl",
        "colab_type": "code",
        "colab": {
          "base_uri": "https://localhost:8080/",
          "height": 284
        },
        "outputId": "125deb01-7487-4555-eee0-ef800a06fa9b"
      },
      "source": [
        "IMG_DIMS = (125, 125)\n",
        "\n",
        "def get_img_data_parallel(idx, img, total_imgs):\n",
        "    if idx % 5000 == 0 or idx == (total_imgs - 1):\n",
        "        print('{}: working on img num: {}'.format(threading.current_thread().name,\n",
        "                                                  idx))\n",
        "    img = cv2.imread(img)\n",
        "    img = cv2.resize(img, dsize=IMG_DIMS, \n",
        "                     interpolation=cv2.INTER_CUBIC)\n",
        "    img = np.array(img, dtype=np.float32)\n",
        "    return img\n",
        "\n",
        "ex = futures.ThreadPoolExecutor(max_workers=None)\n",
        "train_data_inp = [(idx, img, len(train_files)) for idx, img in enumerate(train_files)]\n",
        "val_data_inp = [(idx, img, len(val_files)) for idx, img in enumerate(val_files)]\n",
        "test_data_inp = [(idx, img, len(test_files)) for idx, img in enumerate(test_files)]\n",
        "\n",
        "print('Loading Train Images:')\n",
        "train_data_map = ex.map(get_img_data_parallel, \n",
        "                        [record[0] for record in train_data_inp],\n",
        "                        [record[1] for record in train_data_inp],\n",
        "                        [record[2] for record in train_data_inp])\n",
        "train_data = np.array(list(train_data_map))\n",
        "\n",
        "print('\\nLoading Validation Images:')\n",
        "val_data_map = ex.map(get_img_data_parallel, \n",
        "                        [record[0] for record in val_data_inp],\n",
        "                        [record[1] for record in val_data_inp],\n",
        "                        [record[2] for record in val_data_inp])\n",
        "val_data = np.array(list(val_data_map))\n",
        "\n",
        "print('\\nLoading Test Images:')\n",
        "test_data_map = ex.map(get_img_data_parallel, \n",
        "                        [record[0] for record in test_data_inp],\n",
        "                        [record[1] for record in test_data_inp],\n",
        "                        [record[2] for record in test_data_inp])\n",
        "test_data = np.array(list(test_data_map))\n",
        "\n",
        "train_data.shape, val_data.shape, test_data.shape  "
      ],
      "execution_count": null,
      "outputs": [
        {
          "output_type": "stream",
          "text": [
            "Loading Train Images:\n",
            "ThreadPoolExecutor-1_0: working on img num: 0\n",
            "ThreadPoolExecutor-1_1: working on img num: 5000\n",
            "ThreadPoolExecutor-1_9: working on img num: 10000\n",
            "ThreadPoolExecutor-1_2: working on img num: 15000\n",
            "ThreadPoolExecutor-1_0: working on img num: 17360\n",
            "\n",
            "Loading Validation Images:\n",
            "ThreadPoolExecutor-1_0: working on img num: 0\n",
            "ThreadPoolExecutor-1_6: working on img num: 1928\n",
            "\n",
            "Loading Test Images:\n",
            "ThreadPoolExecutor-1_9: working on img num: 0\n",
            "ThreadPoolExecutor-1_8: working on img num: 5000\n",
            "ThreadPoolExecutor-1_0: working on img num: 8267\n"
          ],
          "name": "stdout"
        },
        {
          "output_type": "execute_result",
          "data": {
            "text/plain": [
              "((17361, 125, 125, 3), (1929, 125, 125, 3), (8268, 125, 125, 3))"
            ]
          },
          "metadata": {
            "tags": []
          },
          "execution_count": 24
        }
      ]
    },
    {
      "cell_type": "code",
      "metadata": {
        "id": "CREeNJKtCRRf",
        "colab_type": "code",
        "colab": {}
      },
      "source": [
        "r = np.random.randint(0 , train_data.shape[0] , 1)"
      ],
      "execution_count": null,
      "outputs": []
    },
    {
      "cell_type": "code",
      "metadata": {
        "id": "XNx7ol8eUA0w",
        "colab_type": "code",
        "colab": {}
      },
      "source": [
        ""
      ],
      "execution_count": null,
      "outputs": []
    },
    {
      "cell_type": "code",
      "metadata": {
        "id": "ljVDxNABTeES",
        "colab_type": "code",
        "colab": {
          "base_uri": "https://localhost:8080/",
          "height": 1000
        },
        "outputId": "6f0a4688-a0f5-4e3a-bdfa-ababb50b0435"
      },
      "source": [
        "train_data"
      ],
      "execution_count": null,
      "outputs": [
        {
          "output_type": "execute_result",
          "data": {
            "text/plain": [
              "array([[[[0., 0., 0.],\n",
              "         [0., 0., 0.],\n",
              "         [0., 0., 0.],\n",
              "         ...,\n",
              "         [0., 0., 0.],\n",
              "         [0., 0., 0.],\n",
              "         [0., 0., 0.]],\n",
              "\n",
              "        [[0., 0., 0.],\n",
              "         [0., 0., 0.],\n",
              "         [0., 0., 0.],\n",
              "         ...,\n",
              "         [0., 0., 0.],\n",
              "         [0., 0., 0.],\n",
              "         [0., 0., 0.]],\n",
              "\n",
              "        [[0., 0., 0.],\n",
              "         [0., 0., 0.],\n",
              "         [0., 0., 0.],\n",
              "         ...,\n",
              "         [0., 0., 0.],\n",
              "         [0., 0., 0.],\n",
              "         [0., 0., 0.]],\n",
              "\n",
              "        ...,\n",
              "\n",
              "        [[0., 0., 0.],\n",
              "         [0., 0., 0.],\n",
              "         [0., 0., 0.],\n",
              "         ...,\n",
              "         [0., 0., 0.],\n",
              "         [0., 0., 0.],\n",
              "         [0., 0., 0.]],\n",
              "\n",
              "        [[0., 0., 0.],\n",
              "         [0., 0., 0.],\n",
              "         [0., 0., 0.],\n",
              "         ...,\n",
              "         [0., 0., 0.],\n",
              "         [0., 0., 0.],\n",
              "         [0., 0., 0.]],\n",
              "\n",
              "        [[0., 0., 0.],\n",
              "         [0., 0., 0.],\n",
              "         [0., 0., 0.],\n",
              "         ...,\n",
              "         [0., 0., 0.],\n",
              "         [0., 0., 0.],\n",
              "         [0., 0., 0.]]],\n",
              "\n",
              "\n",
              "       [[[0., 0., 0.],\n",
              "         [0., 0., 0.],\n",
              "         [0., 0., 0.],\n",
              "         ...,\n",
              "         [0., 0., 0.],\n",
              "         [0., 0., 0.],\n",
              "         [0., 0., 0.]],\n",
              "\n",
              "        [[0., 0., 0.],\n",
              "         [0., 0., 0.],\n",
              "         [0., 0., 0.],\n",
              "         ...,\n",
              "         [0., 0., 0.],\n",
              "         [0., 0., 0.],\n",
              "         [0., 0., 0.]],\n",
              "\n",
              "        [[0., 0., 0.],\n",
              "         [0., 0., 0.],\n",
              "         [0., 0., 0.],\n",
              "         ...,\n",
              "         [0., 0., 0.],\n",
              "         [0., 0., 0.],\n",
              "         [0., 0., 0.]],\n",
              "\n",
              "        ...,\n",
              "\n",
              "        [[0., 0., 0.],\n",
              "         [0., 0., 0.],\n",
              "         [0., 0., 0.],\n",
              "         ...,\n",
              "         [0., 0., 0.],\n",
              "         [0., 0., 0.],\n",
              "         [0., 0., 0.]],\n",
              "\n",
              "        [[0., 0., 0.],\n",
              "         [0., 0., 0.],\n",
              "         [0., 0., 0.],\n",
              "         ...,\n",
              "         [0., 0., 0.],\n",
              "         [0., 0., 0.],\n",
              "         [0., 0., 0.]],\n",
              "\n",
              "        [[0., 0., 0.],\n",
              "         [0., 0., 0.],\n",
              "         [0., 0., 0.],\n",
              "         ...,\n",
              "         [0., 0., 0.],\n",
              "         [0., 0., 0.],\n",
              "         [0., 0., 0.]]],\n",
              "\n",
              "\n",
              "       [[[0., 0., 0.],\n",
              "         [0., 0., 0.],\n",
              "         [0., 0., 0.],\n",
              "         ...,\n",
              "         [0., 0., 0.],\n",
              "         [0., 0., 0.],\n",
              "         [0., 0., 0.]],\n",
              "\n",
              "        [[0., 0., 0.],\n",
              "         [0., 0., 0.],\n",
              "         [0., 0., 0.],\n",
              "         ...,\n",
              "         [0., 0., 0.],\n",
              "         [0., 0., 0.],\n",
              "         [0., 0., 0.]],\n",
              "\n",
              "        [[0., 0., 0.],\n",
              "         [0., 0., 0.],\n",
              "         [0., 0., 0.],\n",
              "         ...,\n",
              "         [0., 0., 0.],\n",
              "         [0., 0., 0.],\n",
              "         [0., 0., 0.]],\n",
              "\n",
              "        ...,\n",
              "\n",
              "        [[0., 0., 0.],\n",
              "         [0., 0., 0.],\n",
              "         [0., 0., 0.],\n",
              "         ...,\n",
              "         [0., 0., 0.],\n",
              "         [0., 0., 0.],\n",
              "         [0., 0., 0.]],\n",
              "\n",
              "        [[0., 0., 0.],\n",
              "         [0., 0., 0.],\n",
              "         [0., 0., 0.],\n",
              "         ...,\n",
              "         [0., 0., 0.],\n",
              "         [0., 0., 0.],\n",
              "         [0., 0., 0.]],\n",
              "\n",
              "        [[0., 0., 0.],\n",
              "         [0., 0., 0.],\n",
              "         [0., 0., 0.],\n",
              "         ...,\n",
              "         [0., 0., 0.],\n",
              "         [0., 0., 0.],\n",
              "         [0., 0., 0.]]],\n",
              "\n",
              "\n",
              "       ...,\n",
              "\n",
              "\n",
              "       [[[0., 0., 0.],\n",
              "         [0., 0., 0.],\n",
              "         [0., 0., 0.],\n",
              "         ...,\n",
              "         [0., 0., 0.],\n",
              "         [0., 0., 0.],\n",
              "         [0., 0., 0.]],\n",
              "\n",
              "        [[0., 0., 0.],\n",
              "         [0., 0., 0.],\n",
              "         [0., 0., 0.],\n",
              "         ...,\n",
              "         [0., 0., 0.],\n",
              "         [0., 0., 0.],\n",
              "         [0., 0., 0.]],\n",
              "\n",
              "        [[0., 0., 0.],\n",
              "         [0., 0., 0.],\n",
              "         [0., 0., 0.],\n",
              "         ...,\n",
              "         [0., 0., 0.],\n",
              "         [0., 0., 0.],\n",
              "         [0., 0., 0.]],\n",
              "\n",
              "        ...,\n",
              "\n",
              "        [[0., 0., 0.],\n",
              "         [0., 0., 0.],\n",
              "         [0., 0., 0.],\n",
              "         ...,\n",
              "         [0., 0., 0.],\n",
              "         [0., 0., 0.],\n",
              "         [0., 0., 0.]],\n",
              "\n",
              "        [[0., 0., 0.],\n",
              "         [0., 0., 0.],\n",
              "         [0., 0., 0.],\n",
              "         ...,\n",
              "         [0., 0., 0.],\n",
              "         [0., 0., 0.],\n",
              "         [0., 0., 0.]],\n",
              "\n",
              "        [[0., 0., 0.],\n",
              "         [0., 0., 0.],\n",
              "         [0., 0., 0.],\n",
              "         ...,\n",
              "         [0., 0., 0.],\n",
              "         [0., 0., 0.],\n",
              "         [0., 0., 0.]]],\n",
              "\n",
              "\n",
              "       [[[0., 0., 0.],\n",
              "         [0., 0., 0.],\n",
              "         [0., 0., 0.],\n",
              "         ...,\n",
              "         [0., 0., 0.],\n",
              "         [0., 0., 0.],\n",
              "         [0., 0., 0.]],\n",
              "\n",
              "        [[0., 0., 0.],\n",
              "         [0., 0., 0.],\n",
              "         [0., 0., 0.],\n",
              "         ...,\n",
              "         [0., 0., 0.],\n",
              "         [0., 0., 0.],\n",
              "         [0., 0., 0.]],\n",
              "\n",
              "        [[0., 0., 0.],\n",
              "         [0., 0., 0.],\n",
              "         [0., 0., 0.],\n",
              "         ...,\n",
              "         [0., 0., 0.],\n",
              "         [0., 0., 0.],\n",
              "         [0., 0., 0.]],\n",
              "\n",
              "        ...,\n",
              "\n",
              "        [[0., 0., 0.],\n",
              "         [0., 0., 0.],\n",
              "         [0., 0., 0.],\n",
              "         ...,\n",
              "         [0., 0., 0.],\n",
              "         [0., 0., 0.],\n",
              "         [0., 0., 0.]],\n",
              "\n",
              "        [[0., 0., 0.],\n",
              "         [0., 0., 0.],\n",
              "         [0., 0., 0.],\n",
              "         ...,\n",
              "         [0., 0., 0.],\n",
              "         [0., 0., 0.],\n",
              "         [0., 0., 0.]],\n",
              "\n",
              "        [[0., 0., 0.],\n",
              "         [0., 0., 0.],\n",
              "         [0., 0., 0.],\n",
              "         ...,\n",
              "         [0., 0., 0.],\n",
              "         [0., 0., 0.],\n",
              "         [0., 0., 0.]]],\n",
              "\n",
              "\n",
              "       [[[0., 0., 0.],\n",
              "         [0., 0., 0.],\n",
              "         [0., 0., 0.],\n",
              "         ...,\n",
              "         [0., 0., 0.],\n",
              "         [0., 0., 0.],\n",
              "         [0., 0., 0.]],\n",
              "\n",
              "        [[0., 0., 0.],\n",
              "         [0., 0., 0.],\n",
              "         [0., 0., 0.],\n",
              "         ...,\n",
              "         [0., 0., 0.],\n",
              "         [0., 0., 0.],\n",
              "         [0., 0., 0.]],\n",
              "\n",
              "        [[0., 0., 0.],\n",
              "         [0., 0., 0.],\n",
              "         [0., 0., 0.],\n",
              "         ...,\n",
              "         [0., 0., 0.],\n",
              "         [0., 0., 0.],\n",
              "         [0., 0., 0.]],\n",
              "\n",
              "        ...,\n",
              "\n",
              "        [[0., 0., 0.],\n",
              "         [0., 0., 0.],\n",
              "         [0., 0., 0.],\n",
              "         ...,\n",
              "         [0., 0., 0.],\n",
              "         [0., 0., 0.],\n",
              "         [0., 0., 0.]],\n",
              "\n",
              "        [[0., 0., 0.],\n",
              "         [0., 0., 0.],\n",
              "         [0., 0., 0.],\n",
              "         ...,\n",
              "         [0., 0., 0.],\n",
              "         [0., 0., 0.],\n",
              "         [0., 0., 0.]],\n",
              "\n",
              "        [[0., 0., 0.],\n",
              "         [0., 0., 0.],\n",
              "         [0., 0., 0.],\n",
              "         ...,\n",
              "         [0., 0., 0.],\n",
              "         [0., 0., 0.],\n",
              "         [0., 0., 0.]]]], dtype=float32)"
            ]
          },
          "metadata": {
            "tags": []
          },
          "execution_count": 26
        }
      ]
    },
    {
      "cell_type": "code",
      "metadata": {
        "id": "39Vwu0mgSaAa",
        "colab_type": "code",
        "colab": {
          "base_uri": "https://localhost:8080/",
          "height": 485
        },
        "outputId": "a7c261ed-3e98-4e9b-d197-8a9ff86bdf4e"
      },
      "source": [
        "\n",
        "import matplotlib.pyplot as plt\n",
        "%matplotlib inline\n",
        "\n",
        "plt.figure(1 , figsize = (8 , 8))\n",
        "n = 0 \n",
        "for i in range(16):\n",
        "    n += 1 \n",
        "    r = np.random.randint(0 , train_data.shape[0] , 1)\n",
        "    plt.subplot(4 , 4 , n)\n",
        "    plt.subplots_adjust(hspace = 0.5 , wspace = 0.5)\n",
        "    plt.imshow(train_data[r[0]]/255.)\n",
        "    plt.title('{}'.format(train_labels[r[0]]))\n",
        "    plt.xticks([]) , plt.yticks([])"
      ],
      "execution_count": null,
      "outputs": [
        {
          "output_type": "display_data",
          "data": {
            "image/png": "[encoded data removed]",
            "text/plain": [
              "<Figure size 576x576 with 16 Axes>"
            ]
          },
          "metadata": {
            "tags": []
          }
        }
      ]
    },
    {
      "cell_type": "code",
      "metadata": {
        "id": "Alv0vPnpSatT",
        "colab_type": "code",
        "colab": {}
      },
      "source": [
        "#setting basic things"
      ],
      "execution_count": null,
      "outputs": []
    },
    {
      "cell_type": "code",
      "metadata": {
        "id": "P5WPuXo1UPzT",
        "colab_type": "code",
        "colab": {
          "base_uri": "https://localhost:8080/",
          "height": 33
        },
        "outputId": "d7746c33-c6bf-4c70-e72d-3256dc373b57"
      },
      "source": [
        "batch_size = 64\n",
        "n_classes = 2\n",
        "input_shape = (125,125,3)\n",
        "epochs = 25\n",
        "\n",
        "train_img_scaled = train_data/255.\n",
        "val_img_scaled = val_data/255.\n",
        "\n",
        "from sklearn.preprocessing import LabelEncoder\n",
        "le = LabelEncoder()\n",
        "train_label_enc = le.fit_transform(train_labels)\n",
        "val_labels_enc = le.transform(val_labels)\n",
        "\n",
        "print(train_labels[:5], train_label_enc[:5])"
      ],
      "execution_count": null,
      "outputs": [
        {
          "output_type": "stream",
          "text": [
            "['malaria' 'malaria' 'malaria' 'healthy' 'healthy'] [1 1 1 0 0]\n"
          ],
          "name": "stdout"
        }
      ]
    },
    {
      "cell_type": "code",
      "metadata": {
        "id": "Fkn9Nh2SJ3Fb",
        "colab_type": "code",
        "colab": {}
      },
      "source": [
        "test_label_enc = le.transform(test_labels)"
      ],
      "execution_count": null,
      "outputs": []
    },
    {
      "cell_type": "code",
      "metadata": {
        "id": "THxyyCIhVbjU",
        "colab_type": "code",
        "colab": {}
      },
      "source": [
        "\n",
        "\n",
        "keras.backend.clear_session()\n",
        "np.random.seed(42)\n",
        "tf.random.set_seed(42)"
      ],
      "execution_count": null,
      "outputs": []
    },
    {
      "cell_type": "code",
      "metadata": {
        "id": "go-mIvAiV1mQ",
        "colab_type": "code",
        "colab": {
          "base_uri": "https://localhost:8080/",
          "height": 585
        },
        "outputId": "82b15462-3d2f-4538-801f-0d4d337851a4"
      },
      "source": [
        "inp = tf.keras.layers.Input(shape=input_shape)\n",
        "\n",
        "conv1 = tf.keras.layers.Conv2D(32, kernel_size=(3, 3), \n",
        "                               activation='relu', padding='same')(inp)\n",
        "pool1 = tf.keras.layers.MaxPooling2D(pool_size=(2, 2))(conv1)\n",
        "conv2 = tf.keras.layers.Conv2D(64, kernel_size=(3, 3), \n",
        "                               activation='relu', padding='same')(pool1)\n",
        "pool2 = tf.keras.layers.MaxPooling2D(pool_size=(2, 2))(conv2)\n",
        "conv3 = tf.keras.layers.Conv2D(128, kernel_size=(3, 3), \n",
        "                               activation='relu', padding='same')(pool2)\n",
        "pool3 = tf.keras.layers.MaxPooling2D(pool_size=(2, 2))(conv3)\n",
        "\n",
        "flat = tf.keras.layers.Flatten()(pool3)\n",
        "\n",
        "hidden1 = tf.keras.layers.Dense(512, activation='relu')(flat)\n",
        "drop1 = tf.keras.layers.Dropout(rate=0.3)(hidden1)\n",
        "hidden2 = tf.keras.layers.Dense(512, activation='relu')(drop1)\n",
        "drop2 = tf.keras.layers.Dropout(rate=0.3)(hidden2)\n",
        "\n",
        "out = tf.keras.layers.Dense(1, activation='sigmoid')(drop2)\n",
        "\n",
        "model = tf.keras.Model(inputs=inp, outputs=out)\n",
        "model.compile(optimizer='adam',\n",
        "                loss='binary_crossentropy',\n",
        "                metrics=['accuracy'])\n",
        "model.summary()"
      ],
      "execution_count": null,
      "outputs": [
        {
          "output_type": "stream",
          "text": [
            "Model: \"model\"\n",
            "_________________________________________________________________\n",
            "Layer (type)                 Output Shape              Param #   \n",
            "=================================================================\n",
            "input_1 (InputLayer)         [(None, 125, 125, 3)]     0         \n",
            "_________________________________________________________________\n",
            "conv2d (Conv2D)              (None, 125, 125, 32)      896       \n",
            "_________________________________________________________________\n",
            "max_pooling2d (MaxPooling2D) (None, 62, 62, 32)        0         \n",
            "_________________________________________________________________\n",
            "conv2d_1 (Conv2D)            (None, 62, 62, 64)        18496     \n",
            "_________________________________________________________________\n",
            "max_pooling2d_1 (MaxPooling2 (None, 31, 31, 64)        0         \n",
            "_________________________________________________________________\n",
            "conv2d_2 (Conv2D)            (None, 31, 31, 128)       73856     \n",
            "_________________________________________________________________\n",
            "max_pooling2d_2 (MaxPooling2 (None, 15, 15, 128)       0         \n",
            "_________________________________________________________________\n",
            "flatten (Flatten)            (None, 28800)             0         \n",
            "_________________________________________________________________\n",
            "dense (Dense)                (None, 512)               14746112  \n",
            "_________________________________________________________________\n",
            "dropout (Dropout)            (None, 512)               0         \n",
            "_________________________________________________________________\n",
            "dense_1 (Dense)              (None, 512)               262656    \n",
            "_________________________________________________________________\n",
            "dropout_1 (Dropout)          (None, 512)               0         \n",
            "_________________________________________________________________\n",
            "dense_2 (Dense)              (None, 1)                 513       \n",
            "=================================================================\n",
            "Total params: 15,102,529\n",
            "Trainable params: 15,102,529\n",
            "Non-trainable params: 0\n",
            "_________________________________________________________________\n"
          ],
          "name": "stdout"
        }
      ]
    },
    {
      "cell_type": "code",
      "metadata": {
        "id": "OBW3BS2xWfnF",
        "colab_type": "code",
        "colab": {}
      },
      "source": [
        "#Train model"
      ],
      "execution_count": null,
      "outputs": []
    },
    {
      "cell_type": "code",
      "metadata": {
        "id": "SukzU5sYXDYN",
        "colab_type": "code",
        "colab": {
          "base_uri": "https://localhost:8080/",
          "height": 472
        },
        "outputId": "b2cf5628-5cfd-4476-f142-ca343682edc6"
      },
      "source": [
        "\n",
        "reduce_lr = tf.keras.callbacks.ReduceLROnPlateau(monitor='val_loss', factor=0.5,\n",
        "                              patience=2, min_lr=0.000001)\n",
        "\n",
        "\n",
        "early_stopping_cb = tf.keras.callbacks.EarlyStopping(patience=10)\n",
        "model_checkpoint_cb = tf.keras.callbacks.ModelCheckpoint(\"malaria_detection_one.h5\", save_best_only=True)\n",
        "callbacks = [reduce_lr,early_stopping_cb,model_checkpoint_cb]\n",
        "\n",
        "history = model.fit(x=train_img_scaled, y=train_label_enc, \n",
        "                    batch_size=batch_size,\n",
        "                    epochs=100, \n",
        "                    validation_data=(val_img_scaled, val_labels_enc), \n",
        "                    callbacks=callbacks,\n",
        "                    verbose=1)"
      ],
      "execution_count": null,
      "outputs": [
        {
          "output_type": "stream",
          "text": [
            "Epoch 1/100\n",
            "272/272 [==============================] - 22s 82ms/step - loss: 0.4142 - accuracy: 0.7875 - val_loss: 0.1695 - val_accuracy: 0.9461 - lr: 0.0010\n",
            "Epoch 2/100\n",
            "272/272 [==============================] - 22s 80ms/step - loss: 0.1580 - accuracy: 0.9519 - val_loss: 0.1458 - val_accuracy: 0.9565 - lr: 0.0010\n",
            "Epoch 3/100\n",
            "272/272 [==============================] - 22s 80ms/step - loss: 0.1404 - accuracy: 0.9553 - val_loss: 0.1451 - val_accuracy: 0.9544 - lr: 0.0010\n",
            "Epoch 4/100\n",
            "272/272 [==============================] - 21s 78ms/step - loss: 0.1230 - accuracy: 0.9595 - val_loss: 0.1516 - val_accuracy: 0.9528 - lr: 0.0010\n",
            "Epoch 5/100\n",
            "272/272 [==============================] - 21s 78ms/step - loss: 0.1084 - accuracy: 0.9622 - val_loss: 0.1506 - val_accuracy: 0.9544 - lr: 0.0010\n",
            "Epoch 6/100\n",
            "272/272 [==============================] - 21s 78ms/step - loss: 0.0806 - accuracy: 0.9722 - val_loss: 0.1572 - val_accuracy: 0.9539 - lr: 5.0000e-04\n",
            "Epoch 7/100\n",
            "272/272 [==============================] - 21s 77ms/step - loss: 0.0691 - accuracy: 0.9760 - val_loss: 0.1746 - val_accuracy: 0.9539 - lr: 5.0000e-04\n",
            "Epoch 8/100\n",
            "272/272 [==============================] - 21s 77ms/step - loss: 0.0465 - accuracy: 0.9835 - val_loss: 0.2057 - val_accuracy: 0.9533 - lr: 2.5000e-04\n",
            "Epoch 9/100\n",
            "272/272 [==============================] - 21s 78ms/step - loss: 0.0380 - accuracy: 0.9876 - val_loss: 0.2052 - val_accuracy: 0.9528 - lr: 2.5000e-04\n",
            "Epoch 10/100\n",
            "272/272 [==============================] - 21s 77ms/step - loss: 0.0241 - accuracy: 0.9930 - val_loss: 0.2318 - val_accuracy: 0.9528 - lr: 1.2500e-04\n",
            "Epoch 11/100\n",
            "272/272 [==============================] - 21s 78ms/step - loss: 0.0200 - accuracy: 0.9948 - val_loss: 0.2542 - val_accuracy: 0.9528 - lr: 1.2500e-04\n",
            "Epoch 12/100\n",
            "272/272 [==============================] - 21s 78ms/step - loss: 0.0142 - accuracy: 0.9965 - val_loss: 0.2674 - val_accuracy: 0.9502 - lr: 6.2500e-05\n",
            "Epoch 13/100\n",
            "272/272 [==============================] - 21s 77ms/step - loss: 0.0119 - accuracy: 0.9971 - val_loss: 0.2863 - val_accuracy: 0.9513 - lr: 6.2500e-05\n"
          ],
          "name": "stdout"
        }
      ]
    },
    {
      "cell_type": "code",
      "metadata": {
        "id": "GCHPF21HXpYT",
        "colab_type": "code",
        "colab": {}
      },
      "source": [
        "#tarnsfer learning"
      ],
      "execution_count": null,
      "outputs": []
    },
    {
      "cell_type": "code",
      "metadata": {
        "id": "rtyNDTIydoAy",
        "colab_type": "code",
        "colab": {}
      },
      "source": [
        "vgg = tf.keras.applications.vgg19.VGG19(include_top=False, weights='imagenet', input_shape=input_shape)\n"
      ],
      "execution_count": null,
      "outputs": []
    },
    {
      "cell_type": "code",
      "metadata": {
        "id": "ikm17SDrd9mU",
        "colab_type": "code",
        "colab": {}
      },
      "source": [
        "train_data_gen  = tf.keras.preprocessing.image.ImageDataGenerator(rescale=1/255., zoom_range=0.05,\n",
        "                                                                  rotation_range=25,\n",
        "                                                                  width_shift_range = 0.05,\n",
        "                                                                  height_shift_range= 0.05,\n",
        "                                                                  shear_range = 0.05,\n",
        "                                                                  horizontal_flip=True,\n",
        "                                                                  fill_mode= 'nearest')\n",
        "val_data_gen = tf.keras.preprocessing.image.ImageDataGenerator(rescale=1./255)"
      ],
      "execution_count": null,
      "outputs": []
    },
    {
      "cell_type": "code",
      "metadata": {
        "id": "_7T8SR0Sfihc",
        "colab_type": "code",
        "colab": {}
      },
      "source": [
        "train_gen = train_data_gen.flow(train_data, train_label_enc, batch_size=batch_size, shuffle=True)\n",
        "val_gen =  val_data_gen.flow(val_data, val_labels_enc, batch_size=batch_size, shuffle=False)"
      ],
      "execution_count": null,
      "outputs": []
    },
    {
      "cell_type": "code",
      "metadata": {
        "id": "jip8kt_cgOYM",
        "colab_type": "code",
        "colab": {}
      },
      "source": [
        "# Freeze the layers\n",
        "vgg.trainable = True\n",
        "set_trainable = False\n",
        "for layer in vgg.layers:\n",
        "    if layer.name in ['block5_conv1', 'block4_conv1']:\n",
        "        set_trainable = True\n",
        "    if set_trainable:\n",
        "        layer.trainable = True\n",
        "    else:\n",
        "        layer.trainable = False"
      ],
      "execution_count": null,
      "outputs": []
    },
    {
      "cell_type": "code",
      "metadata": {
        "id": "31LpS8ong0dA",
        "colab_type": "code",
        "colab": {
          "base_uri": "https://localhost:8080/",
          "height": 886
        },
        "outputId": "6267532c-362d-4860-ea77-0360f2282476"
      },
      "source": [
        "vgg.summary()"
      ],
      "execution_count": null,
      "outputs": [
        {
          "output_type": "stream",
          "text": [
            "Model: \"vgg19\"\n",
            "_________________________________________________________________\n",
            "Layer (type)                 Output Shape              Param #   \n",
            "=================================================================\n",
            "input_1 (InputLayer)         [(None, 125, 125, 3)]     0         \n",
            "_________________________________________________________________\n",
            "block1_conv1 (Conv2D)        (None, 125, 125, 64)      1792      \n",
            "_________________________________________________________________\n",
            "block1_conv2 (Conv2D)        (None, 125, 125, 64)      36928     \n",
            "_________________________________________________________________\n",
            "block1_pool (MaxPooling2D)   (None, 62, 62, 64)        0         \n",
            "_________________________________________________________________\n",
            "block2_conv1 (Conv2D)        (None, 62, 62, 128)       73856     \n",
            "_________________________________________________________________\n",
            "block2_conv2 (Conv2D)        (None, 62, 62, 128)       147584    \n",
            "_________________________________________________________________\n",
            "block2_pool (MaxPooling2D)   (None, 31, 31, 128)       0         \n",
            "_________________________________________________________________\n",
            "block3_conv1 (Conv2D)        (None, 31, 31, 256)       295168    \n",
            "_________________________________________________________________\n",
            "block3_conv2 (Conv2D)        (None, 31, 31, 256)       590080    \n",
            "_________________________________________________________________\n",
            "block3_conv3 (Conv2D)        (None, 31, 31, 256)       590080    \n",
            "_________________________________________________________________\n",
            "block3_conv4 (Conv2D)        (None, 31, 31, 256)       590080    \n",
            "_________________________________________________________________\n",
            "block3_pool (MaxPooling2D)   (None, 15, 15, 256)       0         \n",
            "_________________________________________________________________\n",
            "block4_conv1 (Conv2D)        (None, 15, 15, 512)       1180160   \n",
            "_________________________________________________________________\n",
            "block4_conv2 (Conv2D)        (None, 15, 15, 512)       2359808   \n",
            "_________________________________________________________________\n",
            "block4_conv3 (Conv2D)        (None, 15, 15, 512)       2359808   \n",
            "_________________________________________________________________\n",
            "block4_conv4 (Conv2D)        (None, 15, 15, 512)       2359808   \n",
            "_________________________________________________________________\n",
            "block4_pool (MaxPooling2D)   (None, 7, 7, 512)         0         \n",
            "_________________________________________________________________\n",
            "block5_conv1 (Conv2D)        (None, 7, 7, 512)         2359808   \n",
            "_________________________________________________________________\n",
            "block5_conv2 (Conv2D)        (None, 7, 7, 512)         2359808   \n",
            "_________________________________________________________________\n",
            "block5_conv3 (Conv2D)        (None, 7, 7, 512)         2359808   \n",
            "_________________________________________________________________\n",
            "block5_conv4 (Conv2D)        (None, 7, 7, 512)         2359808   \n",
            "_________________________________________________________________\n",
            "block5_pool (MaxPooling2D)   (None, 3, 3, 512)         0         \n",
            "=================================================================\n",
            "Total params: 20,024,384\n",
            "Trainable params: 17,698,816\n",
            "Non-trainable params: 2,325,568\n",
            "_________________________________________________________________\n"
          ],
          "name": "stdout"
        }
      ]
    },
    {
      "cell_type": "code",
      "metadata": {
        "id": "eE2jpcGgiBdf",
        "colab_type": "code",
        "colab": {}
      },
      "source": [
        "\n",
        "base_vgg = vgg\n",
        "base_out = base_vgg.output\n",
        "pool_out = tf.keras.layers.Flatten()(base_out)\n",
        "hidden1 = tf.keras.layers.Dense(512, activation='relu')(pool_out)\n",
        "drop1 = tf.keras.layers.Dropout(rate=0.3)(hidden1)\n",
        "hidden2 = tf.keras.layers.Dense(512, activation='relu')(drop1)\n",
        "drop2 = tf.keras.layers.Dropout(rate=0.3)(hidden2)\n",
        "\n",
        "out = tf.keras.layers.Dense(1, activation='sigmoid')(drop2)\n",
        "\n",
        "model = tf.keras.Model(inputs=base_vgg.input, outputs=out)\n",
        "model.compile(optimizer=tf.keras.optimizers.RMSprop(lr=1e-5),\n",
        "                loss='binary_crossentropy',\n",
        "                metrics=['accuracy'])\n"
      ],
      "execution_count": null,
      "outputs": []
    },
    {
      "cell_type": "code",
      "metadata": {
        "id": "tXitP3PokYXa",
        "colab_type": "code",
        "colab": {
          "base_uri": "https://localhost:8080/",
          "height": 672
        },
        "outputId": "6b5d417b-ef98-4023-b7a7-084993b3545e"
      },
      "source": [
        "\n",
        "\n",
        "\n",
        "reduce_lr = tf.keras.callbacks.ReduceLROnPlateau(monitor='val_loss', factor=0.5,\n",
        "                              patience=2, min_lr=0.000001)\n",
        "\n",
        "\n",
        "early_stopping_cb = tf.keras.callbacks.EarlyStopping(patience=10)\n",
        "model_checkpoint_cb = tf.keras.callbacks.ModelCheckpoint(\"malaria_detection_one_vgg.h5\", save_best_only=True)\n",
        "callbacks = [reduce_lr,early_stopping_cb,model_checkpoint_cb]\n",
        "\n",
        "\n",
        "train_steps_per_epoch = train_gen.n // train_gen.batch_size\n",
        "val_steps_per_epoch = val_gen.n // val_gen.batch_size\n",
        "history = model.fit_generator(train_gen, steps_per_epoch=train_steps_per_epoch, epochs=40,\n",
        "                              validation_data=val_gen, validation_steps=val_steps_per_epoch, \n",
        "                              verbose=1, callbacks= callbacks)"
      ],
      "execution_count": null,
      "outputs": [
        {
          "output_type": "stream",
          "text": [
            "Epoch 1/40\n",
            "271/271 [==============================] - 107s 395ms/step - loss: 0.2268 - accuracy: 0.9118 - val_loss: 0.1721 - val_accuracy: 0.9417 - lr: 1.0000e-05\n",
            "Epoch 2/40\n",
            "271/271 [==============================] - 107s 396ms/step - loss: 0.1379 - accuracy: 0.9531 - val_loss: 0.1450 - val_accuracy: 0.9510 - lr: 1.0000e-05\n",
            "Epoch 3/40\n",
            "271/271 [==============================] - 108s 398ms/step - loss: 0.1242 - accuracy: 0.9594 - val_loss: 0.1274 - val_accuracy: 0.9583 - lr: 1.0000e-05\n",
            "Epoch 4/40\n",
            "271/271 [==============================] - 107s 394ms/step - loss: 0.1193 - accuracy: 0.9588 - val_loss: 0.1400 - val_accuracy: 0.9594 - lr: 1.0000e-05\n",
            "Epoch 5/40\n",
            "271/271 [==============================] - 107s 396ms/step - loss: 0.1097 - accuracy: 0.9626 - val_loss: 0.1180 - val_accuracy: 0.9589 - lr: 1.0000e-05\n",
            "Epoch 6/40\n",
            "271/271 [==============================] - 108s 397ms/step - loss: 0.1081 - accuracy: 0.9636 - val_loss: 0.1104 - val_accuracy: 0.9656 - lr: 1.0000e-05\n",
            "Epoch 7/40\n",
            "271/271 [==============================] - 107s 393ms/step - loss: 0.1019 - accuracy: 0.9657 - val_loss: 0.1274 - val_accuracy: 0.9620 - lr: 1.0000e-05\n",
            "Epoch 8/40\n",
            "271/271 [==============================] - 106s 393ms/step - loss: 0.0976 - accuracy: 0.9664 - val_loss: 0.1369 - val_accuracy: 0.9589 - lr: 1.0000e-05\n",
            "Epoch 9/40\n",
            "271/271 [==============================] - 107s 395ms/step - loss: 0.0890 - accuracy: 0.9688 - val_loss: 0.1089 - val_accuracy: 0.9620 - lr: 5.0000e-06\n",
            "Epoch 10/40\n",
            "271/271 [==============================] - 107s 393ms/step - loss: 0.0843 - accuracy: 0.9707 - val_loss: 0.1120 - val_accuracy: 0.9604 - lr: 5.0000e-06\n",
            "Epoch 11/40\n",
            "271/271 [==============================] - 107s 393ms/step - loss: 0.0819 - accuracy: 0.9716 - val_loss: 0.1192 - val_accuracy: 0.9625 - lr: 5.0000e-06\n",
            "Epoch 12/40\n",
            "271/271 [==============================] - 107s 396ms/step - loss: 0.0776 - accuracy: 0.9728 - val_loss: 0.1143 - val_accuracy: 0.9651 - lr: 2.5000e-06\n",
            "Epoch 13/40\n",
            "271/271 [==============================] - 107s 395ms/step - loss: 0.0766 - accuracy: 0.9736 - val_loss: 0.1161 - val_accuracy: 0.9677 - lr: 2.5000e-06\n",
            "Epoch 14/40\n",
            "271/271 [==============================] - 106s 393ms/step - loss: 0.0748 - accuracy: 0.9741 - val_loss: 0.1213 - val_accuracy: 0.9625 - lr: 1.2500e-06\n",
            "Epoch 15/40\n",
            "271/271 [==============================] - 107s 396ms/step - loss: 0.0737 - accuracy: 0.9741 - val_loss: 0.1304 - val_accuracy: 0.9635 - lr: 1.2500e-06\n",
            "Epoch 16/40\n",
            "271/271 [==============================] - 107s 396ms/step - loss: 0.0691 - accuracy: 0.9753 - val_loss: 0.1238 - val_accuracy: 0.9641 - lr: 1.0000e-06\n",
            "Epoch 17/40\n",
            "271/271 [==============================] - 107s 396ms/step - loss: 0.0719 - accuracy: 0.9746 - val_loss: 0.1213 - val_accuracy: 0.9635 - lr: 1.0000e-06\n",
            "Epoch 18/40\n",
            "271/271 [==============================] - 107s 397ms/step - loss: 0.0701 - accuracy: 0.9745 - val_loss: 0.1260 - val_accuracy: 0.9661 - lr: 1.0000e-06\n",
            "Epoch 19/40\n",
            "271/271 [==============================] - 107s 396ms/step - loss: 0.0703 - accuracy: 0.9748 - val_loss: 0.1341 - val_accuracy: 0.9615 - lr: 1.0000e-06\n"
          ],
          "name": "stdout"
        }
      ]
    },
    {
      "cell_type": "code",
      "metadata": {
        "id": "k3M9DPxIzTfL",
        "colab_type": "code",
        "colab": {}
      },
      "source": [
        "#evaluate"
      ],
      "execution_count": null,
      "outputs": []
    },
    {
      "cell_type": "code",
      "metadata": {
        "id": "PFxfpmrp3U7t",
        "colab_type": "code",
        "colab": {
          "base_uri": "https://localhost:8080/",
          "height": 33
        },
        "outputId": "6cb25202-652a-415f-df72-9b6216391c25"
      },
      "source": [
        "test_imgs_scaled = test_data / 255.\n",
        "test_imgs_scaled.shape, test_labels.shape"
      ],
      "execution_count": null,
      "outputs": [
        {
          "output_type": "execute_result",
          "data": {
            "text/plain": [
              "((8268, 125, 125, 3), (8268,))"
            ]
          },
          "metadata": {
            "tags": []
          },
          "execution_count": 30
        }
      ]
    },
    {
      "cell_type": "code",
      "metadata": {
        "id": "mE2RnHKcBSB6",
        "colab_type": "code",
        "colab": {}
      },
      "source": [
        "basic_cnn = tf.keras.models.load_model('/content/malaria_detection_one.h5')\n",
        "\n",
        "vgg_ft = tf.keras.models.load_model('/content/malaria_detection_one_vgg.h5')"
      ],
      "execution_count": null,
      "outputs": []
    },
    {
      "cell_type": "code",
      "metadata": {
        "id": "Ten6aIBzBeoZ",
        "colab_type": "code",
        "colab": {}
      },
      "source": [
        "vgg_ft_preds = vgg_ft.predict(test_imgs_scaled, batch_size=512)"
      ],
      "execution_count": null,
      "outputs": []
    },
    {
      "cell_type": "code",
      "metadata": {
        "id": "bocAca5UB1UK",
        "colab_type": "code",
        "colab": {}
      },
      "source": [
        "vgg_ft_pred_labels = le.inverse_transform([1 if pred > 0.5 else 0 \n",
        "                                                  for pred in vgg_ft_preds.ravel()])"
      ],
      "execution_count": null,
      "outputs": []
    },
    {
      "cell_type": "code",
      "metadata": {
        "id": "kXt0IhOpKHOW",
        "colab_type": "code",
        "colab": {}
      },
      "source": [
        "pred = [1 if pred > 0.5 else 0 \n",
        "            for pred in vgg_ft_preds.ravel()]"
      ],
      "execution_count": null,
      "outputs": []
    },
    {
      "cell_type": "code",
      "metadata": {
        "id": "KBEqpoEdCUHZ",
        "colab_type": "code",
        "colab": {}
      },
      "source": [
        "from sklearn.metrics import accuracy_score"
      ],
      "execution_count": null,
      "outputs": []
    },
    {
      "cell_type": "code",
      "metadata": {
        "id": "RdFdbRkHCj7F",
        "colab_type": "code",
        "colab": {
          "base_uri": "https://localhost:8080/",
          "height": 33
        },
        "outputId": "87009dda-63f0-4ce2-c74c-93a0d182ee4d"
      },
      "source": [
        "accuracy_score(test_label_enc,pred )"
      ],
      "execution_count": null,
      "outputs": [
        {
          "output_type": "execute_result",
          "data": {
            "text/plain": [
              "0.965166908563135"
            ]
          },
          "metadata": {
            "tags": []
          },
          "execution_count": 36
        }
      ]
    },
    {
      "cell_type": "code",
      "metadata": {
        "id": "sSl1H9KRKbq1",
        "colab_type": "code",
        "colab": {}
      },
      "source": [
        ""
      ],
      "execution_count": null,
      "outputs": []
    }
  ]
}